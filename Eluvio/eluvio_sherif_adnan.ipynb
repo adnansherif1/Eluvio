{
 "cells": [
  {
   "cell_type": "code",
   "execution_count": null,
   "metadata": {
    "colab": {
     "base_uri": "https://localhost:8080/"
    },
    "executionInfo": {
     "elapsed": 19197,
     "status": "ok",
     "timestamp": 1617824979764,
     "user": {
      "displayName": "Adnan Sherif",
      "photoUrl": "",
      "userId": "12233237892621361721"
     },
     "user_tz": 420
    },
    "id": "hyxQe4jjr1NH",
    "outputId": "df161b54-cd43-4a0c-9b5d-a3ee56e32ed1"
   },
   "outputs": [
    {
     "name": "stdout",
     "output_type": "stream",
     "text": [
      "Mounted at /gdrive\n"
     ]
    }
   ],
   "source": [
    "# if not on google colab skip this step \n",
    "from google.colab import drive\n",
    "drive.mount('/gdrive')"
   ]
  },
  {
   "cell_type": "code",
   "execution_count": null,
   "metadata": {
    "colab": {
     "base_uri": "https://localhost:8080/"
    },
    "executionInfo": {
     "elapsed": 1312,
     "status": "ok",
     "timestamp": 1617824979765,
     "user": {
      "displayName": "Adnan Sherif",
      "photoUrl": "",
      "userId": "12233237892621361721"
     },
     "user_tz": 420
    },
    "id": "RkQk8LpTr4ap",
    "outputId": "41ef957d-1fd4-4ed7-bbb1-e206a73c6be4"
   },
   "outputs": [
    {
     "name": "stdout",
     "output_type": "stream",
     "text": [
      "/gdrive/MyDrive/Eluvio\n"
     ]
    }
   ],
   "source": [
    "# path to the folder where the files are stored\n",
    "%cd ../gdrive/MyDrive/Eluvio"
   ]
  },
  {
   "cell_type": "code",
   "execution_count": null,
   "metadata": {
    "colab": {
     "base_uri": "https://localhost:8080/"
    },
    "executionInfo": {
     "elapsed": 10102,
     "status": "ok",
     "timestamp": 1617824992655,
     "user": {
      "displayName": "Adnan Sherif",
      "photoUrl": "",
      "userId": "12233237892621361721"
     },
     "user_tz": 420
    },
    "id": "eVQ7w7sRs6tO",
    "outputId": "c1d5b3fa-0333-4981-f3e9-f994db914ca8"
   },
   "outputs": [
    {
     "name": "stdout",
     "output_type": "stream",
     "text": [
      "Collecting suffix-tree\n",
      "  Downloading https://files.pythonhosted.org/packages/08/a3/2220baccb9ca9de016c174c8981bcbf9fcc328ddb2b07ee5218fe654df7d/suffix_tree-0.0.7-py3-none-any.whl\n",
      "Installing collected packages: suffix-tree\n",
      "Successfully installed suffix-tree-0.0.7\n",
      "Collecting bitarray\n",
      "\u001b[?25l  Downloading https://files.pythonhosted.org/packages/36/51/0c6562447429f21b37cdaf5a1c18e28c03b08eae42dddfd98ee06eb564d6/bitarray-1.9.1.tar.gz (70kB)\n",
      "\u001b[K     |████████████████████████████████| 71kB 3.5MB/s \n",
      "\u001b[?25hBuilding wheels for collected packages: bitarray\n",
      "  Building wheel for bitarray (setup.py) ... \u001b[?25l\u001b[?25hdone\n",
      "  Created wheel for bitarray: filename=bitarray-1.9.1-cp37-cp37m-linux_x86_64.whl size=144017 sha256=76c4ffd2ad32931b3a42f2790bfda781a6aa3b0f4a705a319b52401ab04d0b22\n",
      "  Stored in directory: /root/.cache/pip/wheels/c4/97/51/a4719135e7a54c5907b4ff36acce179e1af04acf9e5939d9a9\n",
      "Successfully built bitarray\n",
      "Installing collected packages: bitarray\n",
      "Successfully installed bitarray-1.9.1\n"
     ]
    }
   ],
   "source": [
    "!pip install suffix-tree\n",
    "!pip install bitarray"
   ]
  },
  {
   "cell_type": "code",
   "execution_count": null,
   "metadata": {
    "colab": {
     "base_uri": "https://localhost:8080/"
    },
    "executionInfo": {
     "elapsed": 450,
     "status": "ok",
     "timestamp": 1617805706534,
     "user": {
      "displayName": "Adnan Sherif",
      "photoUrl": "",
      "userId": "12233237892621361721"
     },
     "user_tz": 420
    },
    "id": "ST__0-Ciu_ex",
    "outputId": "367edb21-0dd3-4972-a610-eba3d57eb456"
   },
   "outputs": [
    {
     "name": "stdout",
     "output_type": "stream",
     "text": [
      "\u001b[0m\u001b[01;34msample_data\u001b[0m/\n"
     ]
    }
   ],
   "source": [
    "%ls"
   ]
  },
  {
   "cell_type": "code",
   "execution_count": null,
   "metadata": {
    "id": "lA4HSgs4tOi4"
   },
   "outputs": [],
   "source": [
    "# suffix-tree helps build a generalized suffix tree using ukkonens algorithm\n",
    "from suffix_tree import Tree\n",
    "from collections import Counter\n",
    "import bitarray\n",
    "import glob\n",
    "import os"
   ]
  },
  {
   "cell_type": "code",
   "execution_count": null,
   "metadata": {
    "colab": {
     "base_uri": "https://localhost:8080/"
    },
    "executionInfo": {
     "elapsed": 353,
     "status": "ok",
     "timestamp": 1617827264387,
     "user": {
      "displayName": "Adnan Sherif",
      "photoUrl": "",
      "userId": "12233237892621361721"
     },
     "user_tz": 420
    },
    "id": "ZiPkLpDR4qk5",
    "outputId": "0bf43ef4-e624-4f7a-c2b2-dc04ccdc0857"
   },
   "outputs": [
    {
     "name": "stdout",
     "output_type": "stream",
     "text": [
      "sample.3\n",
      "sample.1\n",
      "sample.2\n",
      "sample.4\n",
      "sample.5\n",
      "sample.8\n",
      "sample.9\n",
      "sample.7\n",
      "sample.6\n",
      "sample.10\n"
     ]
    }
   ],
   "source": [
    "# load all the files into a dictionary data where the keys are the names of the file \n",
    "path = ''\n",
    "data = {}\n",
    "\n",
    "for filename in glob.glob(os.path.join(path, 'sample.*')):\n",
    "    with open(os.path.join(os.getcwd(), filename), 'rb') as f: \n",
    "        data[filename] = f.read()\n",
    "        print(filename)"
   ]
  },
  {
   "cell_type": "code",
   "execution_count": null,
   "metadata": {
    "colab": {
     "base_uri": "https://localhost:8080/"
    },
    "executionInfo": {
     "elapsed": 211,
     "status": "ok",
     "timestamp": 1617827087516,
     "user": {
      "displayName": "Adnan Sherif",
      "photoUrl": "",
      "userId": "12233237892621361721"
     },
     "user_tz": 420
    },
    "id": "eOWy3ysisLGH",
    "outputId": "40bf5c7e-0590-4624-90c5-63db1d7fb37c"
   },
   "outputs": [
    {
     "data": {
      "text/plain": [
       "dict_keys(['sample.3', 'sample.1', 'sample.2', 'sample.4', 'sample.5', 'sample.8', 'sample.9', 'sample.7', 'sample.6', 'sample.10'])"
      ]
     },
     "execution_count": 21,
     "metadata": {
      "tags": []
     },
     "output_type": "execute_result"
    }
   ],
   "source": [
    "data.keys()"
   ]
  },
  {
   "cell_type": "code",
   "execution_count": null,
   "metadata": {
    "colab": {
     "base_uri": "https://localhost:8080/"
    },
    "executionInfo": {
     "elapsed": 374,
     "status": "ok",
     "timestamp": 1617827230124,
     "user": {
      "displayName": "Adnan Sherif",
      "photoUrl": "",
      "userId": "12233237892621361721"
     },
     "user_tz": 420
    },
    "id": "mHsjsXpnsUin",
    "outputId": "8422d232-5545-4de1-c6c0-df1ec5a0f7c0"
   },
   "outputs": [
    {
     "name": "stdout",
     "output_type": "stream",
     "text": [
      "45056\n",
      "17408\n",
      "30720\n",
      "30720\n",
      "23552\n",
      "20480\n",
      "13312\n",
      "21504\n",
      "27648\n",
      "14336\n"
     ]
    }
   ],
   "source": [
    "# length of each file\n",
    "for i in data.values():\n",
    "  print(len(list(i)))\n"
   ]
  },
  {
   "cell_type": "code",
   "execution_count": null,
   "metadata": {
    "id": "HEgyaUL3uBrm"
   },
   "outputs": [],
   "source": [
    "# function to find the longest strand of bytes(longest common substring) by finding the deepest shared node in the gst\n",
    "def longest(root):\n",
    "    # if a leaf is detected return the [0] (place holder for length), root.string_id(the file it belongs to)\n",
    "    # and root.path.start(the offset of the root(not leaf) from the start of the file)\n",
    "    if 'children' not in vars(root):\n",
    "        return ([0],[[root.str_id]],[[root.path.start]])\n",
    "    sub_len = []\n",
    "    files = []\n",
    "    start = []\n",
    "    new_start=[]\n",
    "    # calls the function recursively on each child\n",
    "    for key,val in root.children.items():\n",
    "        child_len, child_files, child_start = longest(val)\n",
    "        sub_len, files, start= sub_len+child_len, files+child_files, start+child_start\n",
    "        #a shared node only stores information about the first file so the offset of the root from the start \n",
    "        # of the file is calculated by checking the path.start of the child.\n",
    "        #child is not a shared node where this value matters\n",
    "        new_start.append(root.children[key].path.start)\n",
    "    # max_val finds the length of the deepest shared node from among its children\n",
    "    max_val = max(sub_len)\n",
    "    #if children have shared nodes then details from the one with the deepest node is returned rest are ignored\n",
    "    #here sub_len[idx] is the length from the root to the shared node so no calculations required at this stage\n",
    "    #files, start also do not need modification\n",
    "    if max_val > 0:\n",
    "        idx = sub_len.index(max_val)\n",
    "        return ([sub_len[idx]], [files[idx]],[start[idx]])\n",
    "    # if none of the children have a shared node down the line it means one of two things\n",
    "    # this could be a shared node or this is also not a shared node \n",
    "    else:\n",
    "        unique_keys={}\n",
    "        # if the files returned from all of its children are the same then it is not a shared node.\n",
    "        # if there are 2 or more unique files returned then this is a shared node\n",
    "        # the values of unique keys dict store the offset from the start of the file for the respective file\n",
    "        for fil in files:\n",
    "            assert len(fil) == 1\n",
    "            unique_keys[fil[0]]=new_start[files.index(fil)] #will only have one element\n",
    "        # dict keys and values (file names and offsets) are separated to be returned \n",
    "        new_files = list(unique_keys.keys())\n",
    "        new_start = list(unique_keys.values())\n",
    "        # if it is a shared node return zero for length \n",
    "        # else return the length of this node from the root of the tree\n",
    "        return ([len(root.path) if len(unique_keys) > 1 else 0],[new_files],[new_start])\n"
   ]
  },
  {
   "cell_type": "code",
   "execution_count": null,
   "metadata": {
    "colab": {
     "base_uri": "https://localhost:8080/"
    },
    "executionInfo": {
     "elapsed": 502,
     "status": "ok",
     "timestamp": 1617827271469,
     "user": {
      "displayName": "Adnan Sherif",
      "photoUrl": "",
      "userId": "12233237892621361721"
     },
     "user_tz": 420
    },
    "id": "sy3VC0oLyavC",
    "outputId": "d1db2967-e576-4e83-e6fc-9b4105d6beb0"
   },
   "outputs": [
    {
     "data": {
      "text/plain": [
       "([4], [['1', '2', '3']], [[4, 5, 3]])"
      ]
     },
     "execution_count": 29,
     "metadata": {
      "tags": []
     },
     "output_type": "execute_result"
    }
   ],
   "source": [
    "# sample example (many other samples and scenarios were tested earlier to verify that correct answers are produced)\n",
    "tree = Tree({'1':'xabzxabxab','2':'yabzdxabx',\"3\":\"zavxabx\"})\n",
    "longest(tree.root)"
   ]
  },
  {
   "cell_type": "code",
   "execution_count": null,
   "metadata": {
    "id": "Zwwi_1_yybcd"
   },
   "outputs": [],
   "source": [
    "# create a generalized suffix tree by passing in data dict containing file names and content\n",
    "t2 = Tree(data)"
   ]
  },
  {
   "cell_type": "code",
   "execution_count": null,
   "metadata": {
    "colab": {
     "base_uri": "https://localhost:8080/"
    },
    "executionInfo": {
     "elapsed": 1727,
     "status": "ok",
     "timestamp": 1617829135438,
     "user": {
      "displayName": "Adnan Sherif",
      "photoUrl": "",
      "userId": "12233237892621361721"
     },
     "user_tz": 420
    },
    "id": "UOX2IpYVur2S",
    "outputId": "0b009577-47a9-43d3-9bb3-7618152568c2"
   },
   "outputs": [
    {
     "data": {
      "text/plain": [
       "([27648], [['sample.3', 'sample.2']], [[17408, 3072]])"
      ]
     },
     "execution_count": 31,
     "metadata": {
      "tags": []
     },
     "output_type": "execute_result"
    }
   ],
   "source": [
    "# as shown below the:\n",
    "# length of the longest common byte substring is 27648\n",
    "# the files are sample.3 and sample.2\n",
    "# the starting offset for the files are 17408, 3072\n",
    "result = longest(t2.root)\n",
    "result"
   ]
  },
  {
   "cell_type": "code",
   "execution_count": null,
   "metadata": {
    "executionInfo": {
     "elapsed": 1320,
     "status": "ok",
     "timestamp": 1617897317382,
     "user": {
      "displayName": "Adnan Sherif",
      "photoUrl": "",
      "userId": "12233237892621361721"
     },
     "user_tz": 420
    },
    "id": "ASO-PlsluvV6"
   },
   "outputs": [],
   "source": []
  },
  {
   "cell_type": "code",
   "execution_count": null,
   "metadata": {
    "id": "ajLq_A3avwOB"
   },
   "outputs": [],
   "source": []
  },
  {
   "cell_type": "code",
   "execution_count": null,
   "metadata": {
    "id": "F71Rcihl3UdZ"
   },
   "outputs": [],
   "source": []
  },
  {
   "cell_type": "code",
   "execution_count": null,
   "metadata": {
    "id": "4Sabiy5x5sEf"
   },
   "outputs": [],
   "source": []
  },
  {
   "cell_type": "code",
   "execution_count": null,
   "metadata": {
    "id": "vDQxBEmLNGf2"
   },
   "outputs": [],
   "source": []
  }
 ],
 "metadata": {
  "colab": {
   "authorship_tag": "ABX9TyNWAqxjBCZ1PjUPB8gPxw8H",
   "collapsed_sections": [],
   "name": "eluvio_sherif_adnan.ipynb",
   "provenance": []
  },
  "kernelspec": {
   "display_name": "Python 3",
   "language": "python",
   "name": "python3"
  },
  "language_info": {
   "codemirror_mode": {
    "name": "ipython",
    "version": 3
   },
   "file_extension": ".py",
   "mimetype": "text/x-python",
   "name": "python",
   "nbconvert_exporter": "python",
   "pygments_lexer": "ipython3",
   "version": "3.7.1"
  }
 },
 "nbformat": 4,
 "nbformat_minor": 1
}
